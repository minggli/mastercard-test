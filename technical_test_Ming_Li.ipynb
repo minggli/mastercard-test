{
 "cells": [
  {
   "cell_type": "markdown",
   "id": "1e126ffd-5360-496b-817e-bee0db184953",
   "metadata": {},
   "source": [
    "## Technical test submitted by Ming Li"
   ]
  },
  {
   "cell_type": "code",
   "execution_count": 1,
   "id": "43e00442-f36c-4bad-8da3-c920fd0cbef7",
   "metadata": {},
   "outputs": [],
   "source": [
    "import polars as pl\n",
    "import re\n",
    "import string\n",
    "\n",
    "from sklearn.linear_model import LogisticRegression\n",
    "from sklearn.tree import DecisionTreeClassifier\n",
    "from sklearn.ensemble import RandomForestClassifier\n",
    "from sklearn.gaussian_process import GaussianProcessClassifier\n",
    "from xgboost import XGBClassifier\n",
    "from sklearn.model_selection import cross_validate, StratifiedKFold, GridSearchCV\n",
    "from sklearn.inspection import permutation_importance, DecisionBoundaryDisplay\n",
    "\n",
    "from sklearn.metrics import f1_score, fbeta_score, roc_auc_score, auc, roc_curve, confusion_matrix, ConfusionMatrixDisplay, RocCurveDisplay\n",
    "import matplotlib.pyplot as plt\n",
    "import shap"
   ]
  },
  {
   "cell_type": "code",
   "execution_count": 2,
   "id": "238e9420-157d-4a4e-ad19-48877fbd42dd",
   "metadata": {},
   "outputs": [],
   "source": [
    "plt.style.use(\"ggplot\")"
   ]
  },
  {
   "cell_type": "markdown",
   "id": "988187bf-59fb-4200-a5dd-2fb6216dca43",
   "metadata": {},
   "source": [
    "#### Understanding metadata of Mushroom Dataset"
   ]
  },
  {
   "cell_type": "code",
   "execution_count": 3,
   "id": "3ebebe0a-74a3-494b-ad67-cdf9d4cb58b5",
   "metadata": {
    "scrolled": true
   },
   "outputs": [
    {
     "name": "stdout",
     "output_type": "stream",
     "text": [
      "1. Title: Mushroom Database\n",
      "\n",
      "2. Sources: \n",
      "    (a) Mushroom records drawn from The Audubon Society Field Guide to North\n",
      "        American Mushrooms (1981). G. H. Lincoff (Pres.), New York: Alfred\n",
      "        A. Knopf\n",
      "    (b) Donor: Jeff Schlimmer (Jeffrey.Schlimmer@a.gp.cs.cmu.edu)\n",
      "    (c) Date: 27 April 1987\n",
      "\n",
      "3. Past Usage:\n",
      "    1. Schlimmer,J.S. (1987). Concept Acquisition Through Representational\n",
      "       Adjustment (Technical Report 87-19).  Doctoral disseration, Department\n",
      "       of Information and Computer Science, University of California, Irvine.\n",
      "       --- STAGGER: asymptoted to 95% classification accuracy after reviewing\n",
      "           1000 instances.\n",
      "    2. Iba,W., Wogulis,J., & Langley,P. (1988).  Trading off Simplicity\n",
      "       and Coverage in Incremental Concept Learning. In Proceedings of \n",
      "       the 5th International Conference on Machine Learning, 73-79.\n",
      "       Ann Arbor, Michigan: Morgan Kaufmann.  \n",
      "       -- approximately the same results with their HILLARY algorithm    \n",
      "    3. In the following references a set of rules (given below) were\n",
      "\tlearned for this data set which may serve as a point of\n",
      "\tcomparison for other researchers.\n",
      "\n",
      "\tDuch W, Adamczak R, Grabczewski K (1996) Extraction of logical rules\n",
      "\tfrom training data using backpropagation networks, in: Proc. of the\n",
      "\tThe 1st Online Workshop on Soft Computing, 19-30.Aug.1996, pp. 25-30,\n",
      "\tavailable on-line at: http://www.bioele.nuee.nagoya-u.ac.jp/wsc1/\n",
      "\n",
      "\tDuch W, Adamczak R, Grabczewski K, Ishikawa M, Ueda H, Extraction of\n",
      "\tcrisp logical rules using constrained backpropagation networks -\n",
      "\tcomparison of two new approaches, in: Proc. of the European Symposium\n",
      "\ton Artificial Neural Networks (ESANN'97), Bruge, Belgium 16-18.4.1997,\n",
      "\tpp. xx-xx\n",
      "\n",
      "\tWlodzislaw Duch, Department of Computer Methods, Nicholas Copernicus\n",
      "\tUniversity, 87-100 Torun, Grudziadzka 5, Poland\n",
      "\te-mail: duch@phys.uni.torun.pl\n",
      "\tWWW     http://www.phys.uni.torun.pl/kmk/\n",
      "\t\n",
      "\tDate: Mon, 17 Feb 1997 13:47:40 +0100\n",
      "\tFrom: Wlodzislaw Duch <duch@phys.uni.torun.pl>\n",
      "\tOrganization: Dept. of Computer Methods, UMK\n",
      "\n",
      "\tI have attached a file containing logical rules for mushrooms.\n",
      "\tIt should be helpful for other people since only in the last year I\n",
      "\thave seen about 10 papers analyzing this dataset and obtaining quite\n",
      "\tcomplex rules. We will try to contribute other results later.\n",
      "\n",
      "\tWith best regards, Wlodek Duch\n",
      "\t________________________________________________________________\n",
      "\n",
      "\tLogical rules for the mushroom data sets.\n",
      "\n",
      "\tLogical rules given below seem to be the simplest possible for the\n",
      "\tmushroom dataset and therefore should be treated as benchmark results.\n",
      "\n",
      "\tDisjunctive rules for poisonous mushrooms, from most general\n",
      "\tto most specific:\n",
      "\n",
      "\tP_1) odor=NOT(almond.OR.anise.OR.none)\n",
      "\t     120 poisonous cases missed, 98.52% accuracy\n",
      "\n",
      "\tP_2) spore-print-color=green\n",
      "\t     48 cases missed, 99.41% accuracy\n",
      "         \n",
      "\tP_3) odor=none.AND.stalk-surface-below-ring=scaly.AND.\n",
      "\t          (stalk-color-above-ring=NOT.brown) \n",
      "\t     8 cases missed, 99.90% accuracy\n",
      "         \n",
      "\tP_4) habitat=leaves.AND.cap-color=white\n",
      "\t         100% accuracy     \n",
      "\n",
      "\tRule P_4) may also be\n",
      "\n",
      "\tP_4') population=clustered.AND.cap_color=white\n",
      "\n",
      "\tThese rule involve 6 attributes (out of 22). Rules for edible\n",
      "\tmushrooms are obtained as negation of the rules given above, for\n",
      "\texample the rule:\n",
      "\n",
      "\todor=(almond.OR.anise.OR.none).AND.spore-print-color=NOT.green\n",
      "\n",
      "\tgives 48 errors, or 99.41% accuracy on the whole dataset.\n",
      "\n",
      "\tSeveral slightly more complex variations on these rules exist,\n",
      "\tinvolving other attributes, such as gill_size, gill_spacing,\n",
      "\tstalk_surface_above_ring, but the rules given above are the simplest\n",
      "\twe have found.\n",
      "\n",
      "\n",
      "4. Relevant Information:\n",
      "    This data set includes descriptions of hypothetical samples\n",
      "    corresponding to 23 species of gilled mushrooms in the Agaricus and\n",
      "    Lepiota Family (pp. 500-525).  Each species is identified as\n",
      "    definitely edible, definitely poisonous, or of unknown edibility and\n",
      "    not recommended.  This latter class was combined with the poisonous\n",
      "    one.  The Guide clearly states that there is no simple rule for\n",
      "    determining the edibility of a mushroom; no rule like ``leaflets\n",
      "    three, let it be'' for Poisonous Oak and Ivy.\n",
      "\n",
      "5. Number of Instances: 8124\n",
      "\n",
      "6. Number of Attributes: 22 (all nominally valued)\n",
      "\n",
      "7. Attribute Information: (classes: edible=e, poisonous=p)\n",
      "     1. cap-shape:                bell=b,conical=c,convex=x,flat=f,\n",
      "                                  knobbed=k,sunken=s\n",
      "     2. cap-surface:              fibrous=f,grooves=g,scaly=y,smooth=s\n",
      "     3. cap-color:                brown=n,buff=b,cinnamon=c,gray=g,green=r,\n",
      "                                  pink=p,purple=u,red=e,white=w,yellow=y\n",
      "     4. bruises?:                 bruises=t,no=f\n",
      "     5. odor:                     almond=a,anise=l,creosote=c,fishy=y,foul=f,\n",
      "                                  musty=m,none=n,pungent=p,spicy=s\n",
      "     6. gill-attachment:          attached=a,descending=d,free=f,notched=n\n",
      "     7. gill-spacing:             close=c,crowded=w,distant=d\n",
      "     8. gill-size:                broad=b,narrow=n\n",
      "     9. gill-color:               black=k,brown=n,buff=b,chocolate=h,gray=g,\n",
      "                                  green=r,orange=o,pink=p,purple=u,red=e,\n",
      "                                  white=w,yellow=y\n",
      "    10. stalk-shape:              enlarging=e,tapering=t\n",
      "    11. stalk-root:               bulbous=b,club=c,cup=u,equal=e,\n",
      "                                  rhizomorphs=z,rooted=r,missing=?\n",
      "    12. stalk-surface-above-ring: fibrous=f,scaly=y,silky=k,smooth=s\n",
      "    13. stalk-surface-below-ring: fibrous=f,scaly=y,silky=k,smooth=s\n",
      "    14. stalk-color-above-ring:   brown=n,buff=b,cinnamon=c,gray=g,orange=o,\n",
      "                                  pink=p,red=e,white=w,yellow=y\n",
      "    15. stalk-color-below-ring:   brown=n,buff=b,cinnamon=c,gray=g,orange=o,\n",
      "                                  pink=p,red=e,white=w,yellow=y\n",
      "    16. veil-type:                partial=p,universal=u\n",
      "    17. veil-color:               brown=n,orange=o,white=w,yellow=y\n",
      "    18. ring-number:              none=n,one=o,two=t\n",
      "    19. ring-type:                cobwebby=c,evanescent=e,flaring=f,large=l,\n",
      "                                  none=n,pendant=p,sheathing=s,zone=z\n",
      "    20. spore-print-color:        black=k,brown=n,buff=b,chocolate=h,green=r,\n",
      "                                  orange=o,purple=u,white=w,yellow=y\n",
      "    21. population:               abundant=a,clustered=c,numerous=n,\n",
      "                                  scattered=s,several=v,solitary=y\n",
      "    22. habitat:                  grasses=g,leaves=l,meadows=m,paths=p,\n",
      "                                  urban=u,waste=w,woods=d\n",
      "\n",
      "8. Missing Attribute Values: 2480 of them (denoted by \"?\"), all for\n",
      "   attribute #11.\n",
      "\n",
      "9. Class Distribution: \n",
      "    --    edible: 4208 (51.8%)\n",
      "    -- poisonous: 3916 (48.2%)\n",
      "    --     total: 8124 instances\n",
      "\n"
     ]
    }
   ],
   "source": [
    "with open(\"data/agaricus-lepiota.names\", \"r\") as f:\n",
    "    metadata = f.read()\n",
    "    print(metadata)"
   ]
  },
  {
   "cell_type": "markdown",
   "id": "3ef36a1b-3025-4c47-9785-1a08a625a164",
   "metadata": {},
   "source": [
    "#### mushroom dataset is completely categorical.\n",
    "\n",
    "- Hypothesis 1: tree-based models may be natively suitable for performing classification task on this type of data, in comparison to other models such as logistic regression, DNN with sigmoid/softmax output layer who mainly work in continuous $\\mathbb{R}^k$ feature space."
   ]
  },
  {
   "cell_type": "markdown",
   "id": "7b765ff6-07a0-4b7e-b88c-3e8a5d57629f",
   "metadata": {},
   "source": [
    "#### extracting column names from metadata (agaricus-lepiota.names)"
   ]
  },
  {
   "cell_type": "code",
   "execution_count": 4,
   "id": "a09a56cd-3c60-4ede-98e1-328f1f9556bf",
   "metadata": {},
   "outputs": [],
   "source": [
    "text_start = \"7. Attribute Information: (classes: edible=e, poisonous=p)\"\n",
    "text_end = \"8. Missing Attribute Values\"\n",
    "index_start = metadata.find(text_start)+ len(text_start)\n",
    "index_end = metadata.find(text_end)\n",
    "text_extract = metadata[index_start:index_end]\n",
    "\n",
    "column_pattern = r\"\\d\\. (.*):\"\n",
    "columns_extracted = re.findall(column_pattern, text_extract, flags=re.IGNORECASE)"
   ]
  },
  {
   "cell_type": "code",
   "execution_count": 5,
   "id": "17617b67-b923-4bad-94fb-961dfe9f7ab3",
   "metadata": {},
   "outputs": [],
   "source": [
    "TARGET_COLUMN = \"label\""
   ]
  },
  {
   "cell_type": "code",
   "execution_count": 6,
   "id": "94cc6d80-4d81-40b5-ad22-70b0ecb1f245",
   "metadata": {},
   "outputs": [],
   "source": [
    "column_names = [TARGET_COLUMN] + columns_extracted"
   ]
  },
  {
   "cell_type": "code",
   "execution_count": 7,
   "id": "24055d53-086c-4ed2-87e5-5e7c2e2fc178",
   "metadata": {},
   "outputs": [],
   "source": [
    "df_0 = pl.read_csv(\"data/agaricus-lepiota.data\", has_header=False, new_columns=column_names)"
   ]
  },
  {
   "cell_type": "code",
   "execution_count": 8,
   "id": "531a7d7f-4c12-48e3-9b6b-fa51ec9bdadb",
   "metadata": {},
   "outputs": [
    {
     "name": "stdout",
     "output_type": "stream",
     "text": [
      "shape: (2, 2)\n",
      "┌───────┬───────┐\n",
      "│ label ┆ count │\n",
      "│ ---   ┆ ---   │\n",
      "│ str   ┆ u32   │\n",
      "╞═══════╪═══════╡\n",
      "│ p     ┆ 3916  │\n",
      "│ e     ┆ 4208  │\n",
      "└───────┴───────┘\n"
     ]
    }
   ],
   "source": [
    "print(df_0[\"label\"].value_counts())"
   ]
  },
  {
   "cell_type": "markdown",
   "id": "f53b975f-c584-4723-b782-c5df7cf7e488",
   "metadata": {},
   "source": [
    "#### codifying texts to numeric values\n",
    "- feature space remain discrete irrespective of numeric values assigned\n",
    "- use a fixed mapping so that when new category is introduced in any feature, existing mapping will not change."
   ]
  },
  {
   "cell_type": "code",
   "execution_count": 9,
   "id": "d6d35a08-3391-494b-8708-d40b643de46f",
   "metadata": {},
   "outputs": [],
   "source": [
    "null_mapper = {\"?\": None, }\n",
    "label_mapper = {\"p\": 1, \"e\": 0}"
   ]
  },
  {
   "cell_type": "code",
   "execution_count": 10,
   "id": "2c60da0d-d3fb-4899-9bcd-80e2d8c47599",
   "metadata": {},
   "outputs": [],
   "source": [
    "with pl.StringCache():\n",
    "    # initiate string cache mapping ascii printable characters to fixed location in cache.\n",
    "    # so that if any future new data contains new categorical values in features will not change existing codification of dataset.\n",
    "    charset = string.printable\n",
    "    s = pl.Series(list(charset)).cast(pl.Categorical)\n",
    "    reverse_mapping = dict(enumerate(string.printable))\n",
    "    assert string.printable == ''.join(charset[i] for i in s.to_physical())\n",
    "\n",
    "    feature_columns = pl.all().exclude(TARGET_COLUMN)\n",
    "    df_1 = df_0.select(pl.all().replace(null_mapper))\n",
    "    df_1 = df_1.drop_nulls()\n",
    "\n",
    "    features_1 = df_1.select(feature_columns) \\\n",
    "        .with_columns(pl.all().cast(pl.Categorical)) \\\n",
    "        .with_columns(pl.all().to_physical())\n",
    "    label = df_1.select(pl.col(TARGET_COLUMN).replace(label_mapper).cast(pl.UInt8)).to_series()"
   ]
  },
  {
   "cell_type": "markdown",
   "id": "c3a1e2ca-89c9-4d3f-bc0e-c17c30fd1eb8",
   "metadata": {},
   "source": [
    "#### feature dataset 1 is not one-hot encoded\n",
    "- this allows for better interpretability of feature importance\n",
    "- tree based model does not require one-hot encoding of features"
   ]
  },
  {
   "cell_type": "code",
   "execution_count": 11,
   "id": "07913df3-2772-46ee-ae46-aadb48cb0810",
   "metadata": {},
   "outputs": [
    {
     "data": {
      "text/html": [
       "<div><style>\n",
       ".dataframe > thead > tr,\n",
       ".dataframe > tbody > tr {\n",
       "  text-align: right;\n",
       "  white-space: pre-wrap;\n",
       "}\n",
       "</style>\n",
       "<small>shape: (5, 22)</small><table border=\"1\" class=\"dataframe\"><thead><tr><th>cap-shape</th><th>cap-surface</th><th>cap-color</th><th>bruises?</th><th>odor</th><th>gill-attachment</th><th>gill-spacing</th><th>gill-size</th><th>gill-color</th><th>stalk-shape</th><th>stalk-root</th><th>stalk-surface-above-ring</th><th>stalk-surface-below-ring</th><th>stalk-color-above-ring</th><th>stalk-color-below-ring</th><th>veil-type</th><th>veil-color</th><th>ring-number</th><th>ring-type</th><th>spore-print-color</th><th>population</th><th>habitat</th></tr><tr><td>u32</td><td>u32</td><td>u32</td><td>u32</td><td>u32</td><td>u32</td><td>u32</td><td>u32</td><td>u32</td><td>u32</td><td>u32</td><td>u32</td><td>u32</td><td>u32</td><td>u32</td><td>u32</td><td>u32</td><td>u32</td><td>u32</td><td>u32</td><td>u32</td><td>u32</td></tr></thead><tbody><tr><td>33</td><td>28</td><td>23</td><td>29</td><td>25</td><td>15</td><td>12</td><td>23</td><td>20</td><td>14</td><td>14</td><td>28</td><td>28</td><td>32</td><td>32</td><td>25</td><td>32</td><td>24</td><td>25</td><td>20</td><td>28</td><td>30</td></tr><tr><td>33</td><td>28</td><td>34</td><td>29</td><td>10</td><td>15</td><td>12</td><td>11</td><td>20</td><td>14</td><td>12</td><td>28</td><td>28</td><td>32</td><td>32</td><td>25</td><td>32</td><td>24</td><td>25</td><td>23</td><td>23</td><td>16</td></tr><tr><td>11</td><td>28</td><td>32</td><td>29</td><td>21</td><td>15</td><td>12</td><td>11</td><td>23</td><td>14</td><td>12</td><td>28</td><td>28</td><td>32</td><td>32</td><td>25</td><td>32</td><td>24</td><td>25</td><td>23</td><td>23</td><td>22</td></tr><tr><td>33</td><td>34</td><td>32</td><td>29</td><td>25</td><td>15</td><td>12</td><td>23</td><td>23</td><td>14</td><td>14</td><td>28</td><td>28</td><td>32</td><td>32</td><td>25</td><td>32</td><td>24</td><td>25</td><td>20</td><td>28</td><td>30</td></tr><tr><td>33</td><td>28</td><td>16</td><td>15</td><td>23</td><td>15</td><td>32</td><td>11</td><td>20</td><td>29</td><td>14</td><td>28</td><td>28</td><td>32</td><td>32</td><td>25</td><td>32</td><td>24</td><td>14</td><td>23</td><td>10</td><td>16</td></tr></tbody></table></div>"
      ],
      "text/plain": [
       "shape: (5, 22)\n",
       "┌───────────┬────────────┬───────────┬──────────┬───┬───────────┬────────────┬───────────┬─────────┐\n",
       "│ cap-shape ┆ cap-surfac ┆ cap-color ┆ bruises? ┆ … ┆ ring-type ┆ spore-prin ┆ populatio ┆ habitat │\n",
       "│ ---       ┆ e          ┆ ---       ┆ ---      ┆   ┆ ---       ┆ t-color    ┆ n         ┆ ---     │\n",
       "│ u32       ┆ ---        ┆ u32       ┆ u32      ┆   ┆ u32       ┆ ---        ┆ ---       ┆ u32     │\n",
       "│           ┆ u32        ┆           ┆          ┆   ┆           ┆ u32        ┆ u32       ┆         │\n",
       "╞═══════════╪════════════╪═══════════╪══════════╪═══╪═══════════╪════════════╪═══════════╪═════════╡\n",
       "│ 33        ┆ 28         ┆ 23        ┆ 29       ┆ … ┆ 25        ┆ 20         ┆ 28        ┆ 30      │\n",
       "│ 33        ┆ 28         ┆ 34        ┆ 29       ┆ … ┆ 25        ┆ 23         ┆ 23        ┆ 16      │\n",
       "│ 11        ┆ 28         ┆ 32        ┆ 29       ┆ … ┆ 25        ┆ 23         ┆ 23        ┆ 22      │\n",
       "│ 33        ┆ 34         ┆ 32        ┆ 29       ┆ … ┆ 25        ┆ 20         ┆ 28        ┆ 30      │\n",
       "│ 33        ┆ 28         ┆ 16        ┆ 15       ┆ … ┆ 14        ┆ 23         ┆ 10        ┆ 16      │\n",
       "└───────────┴────────────┴───────────┴──────────┴───┴───────────┴────────────┴───────────┴─────────┘"
      ]
     },
     "execution_count": 11,
     "metadata": {},
     "output_type": "execute_result"
    }
   ],
   "source": [
    "features_1.head()"
   ]
  },
  {
   "cell_type": "markdown",
   "id": "bff1b877-1487-4205-a1a5-af5fee29dbcc",
   "metadata": {},
   "source": [
    "#### create feature dataset 2 using one-hot encoding\n",
    "- logistic regression or other models require one-hot encoding in order to treat numeric values as discete variables as intended.\n",
    "- dropping first to avoid multicollinearity. This does not affect model performance once trained but interpretability of weights (or coefficients)\n",
    "- whereas this _can_ be used for tree-based models, one-hot encoded feature dataset can clutter feature importance and reduce model performance due to larger sample space of features to choose from for certain implementation of algorithms."
   ]
  },
  {
   "cell_type": "code",
   "execution_count": 12,
   "id": "5ac73ad1-1078-4718-ac95-d85df38fdb88",
   "metadata": {},
   "outputs": [
    {
     "data": {
      "text/html": [
       "<div><style>\n",
       ".dataframe > thead > tr,\n",
       ".dataframe > tbody > tr {\n",
       "  text-align: right;\n",
       "  white-space: pre-wrap;\n",
       "}\n",
       "</style>\n",
       "<small>shape: (1, 22)</small><table border=\"1\" class=\"dataframe\"><thead><tr><th>cap-shape</th><th>cap-surface</th><th>cap-color</th><th>bruises?</th><th>odor</th><th>gill-attachment</th><th>gill-spacing</th><th>gill-size</th><th>gill-color</th><th>stalk-shape</th><th>stalk-root</th><th>stalk-surface-above-ring</th><th>stalk-surface-below-ring</th><th>stalk-color-above-ring</th><th>stalk-color-below-ring</th><th>veil-type</th><th>veil-color</th><th>ring-number</th><th>ring-type</th><th>spore-print-color</th><th>population</th><th>habitat</th></tr><tr><td>u32</td><td>u32</td><td>u32</td><td>u32</td><td>u32</td><td>u32</td><td>u32</td><td>u32</td><td>u32</td><td>u32</td><td>u32</td><td>u32</td><td>u32</td><td>u32</td><td>u32</td><td>u32</td><td>u32</td><td>u32</td><td>u32</td><td>u32</td><td>u32</td><td>u32</td></tr></thead><tbody><tr><td>6</td><td>4</td><td>8</td><td>2</td><td>7</td><td>2</td><td>2</td><td>2</td><td>9</td><td>2</td><td>4</td><td>4</td><td>4</td><td>7</td><td>7</td><td>1</td><td>2</td><td>3</td><td>4</td><td>6</td><td>6</td><td>6</td></tr></tbody></table></div>"
      ],
      "text/plain": [
       "shape: (1, 22)\n",
       "┌───────────┬────────────┬───────────┬──────────┬───┬───────────┬────────────┬───────────┬─────────┐\n",
       "│ cap-shape ┆ cap-surfac ┆ cap-color ┆ bruises? ┆ … ┆ ring-type ┆ spore-prin ┆ populatio ┆ habitat │\n",
       "│ ---       ┆ e          ┆ ---       ┆ ---      ┆   ┆ ---       ┆ t-color    ┆ n         ┆ ---     │\n",
       "│ u32       ┆ ---        ┆ u32       ┆ u32      ┆   ┆ u32       ┆ ---        ┆ ---       ┆ u32     │\n",
       "│           ┆ u32        ┆           ┆          ┆   ┆           ┆ u32        ┆ u32       ┆         │\n",
       "╞═══════════╪════════════╪═══════════╪══════════╪═══╪═══════════╪════════════╪═══════════╪═════════╡\n",
       "│ 6         ┆ 4          ┆ 8         ┆ 2        ┆ … ┆ 4         ┆ 6          ┆ 6         ┆ 6       │\n",
       "└───────────┴────────────┴───────────┴──────────┴───┴───────────┴────────────┴───────────┴─────────┘"
      ]
     },
     "execution_count": 12,
     "metadata": {},
     "output_type": "execute_result"
    }
   ],
   "source": [
    "features_1.select(pl.all().n_unique())"
   ]
  },
  {
   "cell_type": "code",
   "execution_count": 13,
   "id": "934bae03-a8d9-4895-8eb6-7a695cedd88a",
   "metadata": {},
   "outputs": [
    {
     "data": {
      "text/plain": [
       "(5644, 22)"
      ]
     },
     "execution_count": 13,
     "metadata": {},
     "output_type": "execute_result"
    }
   ],
   "source": [
    "features_1.shape"
   ]
  },
  {
   "cell_type": "code",
   "execution_count": 14,
   "id": "c29c7021-b5df-457d-bd62-71253b489086",
   "metadata": {},
   "outputs": [
    {
     "data": {
      "text/html": [
       "<div><style>\n",
       ".dataframe > thead > tr,\n",
       ".dataframe > tbody > tr {\n",
       "  text-align: right;\n",
       "  white-space: pre-wrap;\n",
       "}\n",
       "</style>\n",
       "<small>shape: (5, 76)</small><table border=\"1\" class=\"dataframe\"><thead><tr><th>cap-shape_11</th><th>cap-shape_12</th><th>cap-shape_15</th><th>cap-shape_20</th><th>cap-shape_28</th><th>cap-surface_15</th><th>cap-surface_16</th><th>cap-surface_34</th><th>cap-color_11</th><th>cap-color_12</th><th>cap-color_14</th><th>cap-color_16</th><th>cap-color_25</th><th>cap-color_32</th><th>cap-color_34</th><th>bruises?_15</th><th>odor_10</th><th>odor_12</th><th>odor_15</th><th>odor_21</th><th>odor_22</th><th>odor_23</th><th>gill-attachment_10</th><th>gill-spacing_32</th><th>gill-size_11</th><th>gill-color_16</th><th>gill-color_17</th><th>gill-color_23</th><th>gill-color_25</th><th>gill-color_27</th><th>gill-color_30</th><th>gill-color_32</th><th>gill-color_34</th><th>stalk-shape_29</th><th>stalk-root_11</th><th>stalk-root_12</th><th>stalk-root_27</th><th>&hellip;</th><th>stalk-surface-above-ring_34</th><th>stalk-surface-below-ring_15</th><th>stalk-surface-below-ring_20</th><th>stalk-surface-below-ring_34</th><th>stalk-color-above-ring_11</th><th>stalk-color-above-ring_12</th><th>stalk-color-above-ring_16</th><th>stalk-color-above-ring_23</th><th>stalk-color-above-ring_25</th><th>stalk-color-above-ring_34</th><th>stalk-color-below-ring_11</th><th>stalk-color-below-ring_12</th><th>stalk-color-below-ring_16</th><th>stalk-color-below-ring_23</th><th>stalk-color-below-ring_25</th><th>stalk-color-below-ring_34</th><th>veil-color_34</th><th>ring-number_23</th><th>ring-number_29</th><th>ring-type_14</th><th>ring-type_21</th><th>ring-type_23</th><th>spore-print-color_17</th><th>spore-print-color_23</th><th>spore-print-color_27</th><th>spore-print-color_30</th><th>spore-print-color_32</th><th>population_10</th><th>population_12</th><th>population_23</th><th>population_31</th><th>population_34</th><th>habitat_13</th><th>habitat_16</th><th>habitat_21</th><th>habitat_22</th><th>habitat_25</th></tr><tr><td>u8</td><td>u8</td><td>u8</td><td>u8</td><td>u8</td><td>u8</td><td>u8</td><td>u8</td><td>u8</td><td>u8</td><td>u8</td><td>u8</td><td>u8</td><td>u8</td><td>u8</td><td>u8</td><td>u8</td><td>u8</td><td>u8</td><td>u8</td><td>u8</td><td>u8</td><td>u8</td><td>u8</td><td>u8</td><td>u8</td><td>u8</td><td>u8</td><td>u8</td><td>u8</td><td>u8</td><td>u8</td><td>u8</td><td>u8</td><td>u8</td><td>u8</td><td>u8</td><td>&hellip;</td><td>u8</td><td>u8</td><td>u8</td><td>u8</td><td>u8</td><td>u8</td><td>u8</td><td>u8</td><td>u8</td><td>u8</td><td>u8</td><td>u8</td><td>u8</td><td>u8</td><td>u8</td><td>u8</td><td>u8</td><td>u8</td><td>u8</td><td>u8</td><td>u8</td><td>u8</td><td>u8</td><td>u8</td><td>u8</td><td>u8</td><td>u8</td><td>u8</td><td>u8</td><td>u8</td><td>u8</td><td>u8</td><td>u8</td><td>u8</td><td>u8</td><td>u8</td><td>u8</td></tr></thead><tbody><tr><td>0</td><td>0</td><td>0</td><td>0</td><td>0</td><td>0</td><td>0</td><td>0</td><td>0</td><td>0</td><td>0</td><td>0</td><td>0</td><td>0</td><td>0</td><td>0</td><td>0</td><td>0</td><td>0</td><td>0</td><td>0</td><td>0</td><td>0</td><td>0</td><td>0</td><td>0</td><td>0</td><td>0</td><td>0</td><td>0</td><td>0</td><td>0</td><td>0</td><td>0</td><td>0</td><td>0</td><td>0</td><td>&hellip;</td><td>0</td><td>0</td><td>0</td><td>0</td><td>0</td><td>0</td><td>0</td><td>0</td><td>0</td><td>0</td><td>0</td><td>0</td><td>0</td><td>0</td><td>0</td><td>0</td><td>0</td><td>0</td><td>0</td><td>0</td><td>0</td><td>0</td><td>0</td><td>0</td><td>0</td><td>0</td><td>0</td><td>0</td><td>0</td><td>0</td><td>0</td><td>0</td><td>0</td><td>0</td><td>0</td><td>0</td><td>0</td></tr><tr><td>0</td><td>0</td><td>0</td><td>0</td><td>0</td><td>0</td><td>0</td><td>0</td><td>0</td><td>0</td><td>0</td><td>0</td><td>0</td><td>0</td><td>1</td><td>0</td><td>1</td><td>0</td><td>0</td><td>0</td><td>0</td><td>0</td><td>0</td><td>0</td><td>1</td><td>0</td><td>0</td><td>0</td><td>0</td><td>0</td><td>0</td><td>0</td><td>0</td><td>0</td><td>0</td><td>1</td><td>0</td><td>&hellip;</td><td>0</td><td>0</td><td>0</td><td>0</td><td>0</td><td>0</td><td>0</td><td>0</td><td>0</td><td>0</td><td>0</td><td>0</td><td>0</td><td>0</td><td>0</td><td>0</td><td>0</td><td>0</td><td>0</td><td>0</td><td>0</td><td>0</td><td>0</td><td>1</td><td>0</td><td>0</td><td>0</td><td>0</td><td>0</td><td>1</td><td>0</td><td>0</td><td>0</td><td>1</td><td>0</td><td>0</td><td>0</td></tr><tr><td>1</td><td>0</td><td>0</td><td>0</td><td>0</td><td>0</td><td>0</td><td>0</td><td>0</td><td>0</td><td>0</td><td>0</td><td>0</td><td>1</td><td>0</td><td>0</td><td>0</td><td>0</td><td>0</td><td>1</td><td>0</td><td>0</td><td>0</td><td>0</td><td>1</td><td>0</td><td>0</td><td>1</td><td>0</td><td>0</td><td>0</td><td>0</td><td>0</td><td>0</td><td>0</td><td>1</td><td>0</td><td>&hellip;</td><td>0</td><td>0</td><td>0</td><td>0</td><td>0</td><td>0</td><td>0</td><td>0</td><td>0</td><td>0</td><td>0</td><td>0</td><td>0</td><td>0</td><td>0</td><td>0</td><td>0</td><td>0</td><td>0</td><td>0</td><td>0</td><td>0</td><td>0</td><td>1</td><td>0</td><td>0</td><td>0</td><td>0</td><td>0</td><td>1</td><td>0</td><td>0</td><td>0</td><td>0</td><td>0</td><td>1</td><td>0</td></tr><tr><td>0</td><td>0</td><td>0</td><td>0</td><td>0</td><td>0</td><td>0</td><td>1</td><td>0</td><td>0</td><td>0</td><td>0</td><td>0</td><td>1</td><td>0</td><td>0</td><td>0</td><td>0</td><td>0</td><td>0</td><td>0</td><td>0</td><td>0</td><td>0</td><td>0</td><td>0</td><td>0</td><td>1</td><td>0</td><td>0</td><td>0</td><td>0</td><td>0</td><td>0</td><td>0</td><td>0</td><td>0</td><td>&hellip;</td><td>0</td><td>0</td><td>0</td><td>0</td><td>0</td><td>0</td><td>0</td><td>0</td><td>0</td><td>0</td><td>0</td><td>0</td><td>0</td><td>0</td><td>0</td><td>0</td><td>0</td><td>0</td><td>0</td><td>0</td><td>0</td><td>0</td><td>0</td><td>0</td><td>0</td><td>0</td><td>0</td><td>0</td><td>0</td><td>0</td><td>0</td><td>0</td><td>0</td><td>0</td><td>0</td><td>0</td><td>0</td></tr><tr><td>0</td><td>0</td><td>0</td><td>0</td><td>0</td><td>0</td><td>0</td><td>0</td><td>0</td><td>0</td><td>0</td><td>1</td><td>0</td><td>0</td><td>0</td><td>1</td><td>0</td><td>0</td><td>0</td><td>0</td><td>0</td><td>1</td><td>0</td><td>1</td><td>1</td><td>0</td><td>0</td><td>0</td><td>0</td><td>0</td><td>0</td><td>0</td><td>0</td><td>1</td><td>0</td><td>0</td><td>0</td><td>&hellip;</td><td>0</td><td>0</td><td>0</td><td>0</td><td>0</td><td>0</td><td>0</td><td>0</td><td>0</td><td>0</td><td>0</td><td>0</td><td>0</td><td>0</td><td>0</td><td>0</td><td>0</td><td>0</td><td>0</td><td>1</td><td>0</td><td>0</td><td>0</td><td>1</td><td>0</td><td>0</td><td>0</td><td>1</td><td>0</td><td>0</td><td>0</td><td>0</td><td>0</td><td>1</td><td>0</td><td>0</td><td>0</td></tr></tbody></table></div>"
      ],
      "text/plain": [
       "shape: (5, 76)\n",
       "┌───────────┬───────────┬───────────┬───────────┬───┬───────────┬───────────┬───────────┬──────────┐\n",
       "│ cap-shape ┆ cap-shape ┆ cap-shape ┆ cap-shape ┆ … ┆ habitat_1 ┆ habitat_2 ┆ habitat_2 ┆ habitat_ │\n",
       "│ _11       ┆ _12       ┆ _15       ┆ _20       ┆   ┆ 6         ┆ 1         ┆ 2         ┆ 25       │\n",
       "│ ---       ┆ ---       ┆ ---       ┆ ---       ┆   ┆ ---       ┆ ---       ┆ ---       ┆ ---      │\n",
       "│ u8        ┆ u8        ┆ u8        ┆ u8        ┆   ┆ u8        ┆ u8        ┆ u8        ┆ u8       │\n",
       "╞═══════════╪═══════════╪═══════════╪═══════════╪═══╪═══════════╪═══════════╪═══════════╪══════════╡\n",
       "│ 0         ┆ 0         ┆ 0         ┆ 0         ┆ … ┆ 0         ┆ 0         ┆ 0         ┆ 0        │\n",
       "│ 0         ┆ 0         ┆ 0         ┆ 0         ┆ … ┆ 1         ┆ 0         ┆ 0         ┆ 0        │\n",
       "│ 1         ┆ 0         ┆ 0         ┆ 0         ┆ … ┆ 0         ┆ 0         ┆ 1         ┆ 0        │\n",
       "│ 0         ┆ 0         ┆ 0         ┆ 0         ┆ … ┆ 0         ┆ 0         ┆ 0         ┆ 0        │\n",
       "│ 0         ┆ 0         ┆ 0         ┆ 0         ┆ … ┆ 1         ┆ 0         ┆ 0         ┆ 0        │\n",
       "└───────────┴───────────┴───────────┴───────────┴───┴───────────┴───────────┴───────────┴──────────┘"
      ]
     },
     "execution_count": 14,
     "metadata": {},
     "output_type": "execute_result"
    }
   ],
   "source": [
    "features_2 = features_1.to_dummies(drop_first=True)\n",
    "features_2.head()"
   ]
  },
  {
   "cell_type": "markdown",
   "id": "589c27c8-e2e8-46fa-be8c-ec96ce3b178c",
   "metadata": {},
   "source": [
    "#### global feature importance"
   ]
  },
  {
   "cell_type": "code",
   "execution_count": 15,
   "id": "56a6a0a1-ebab-4dc8-b392-afc40e51dfac",
   "metadata": {},
   "outputs": [
    {
     "data": {
      "text/html": [
       "<style>#sk-container-id-1 {\n",
       "  /* Definition of color scheme common for light and dark mode */\n",
       "  --sklearn-color-text: black;\n",
       "  --sklearn-color-line: gray;\n",
       "  /* Definition of color scheme for unfitted estimators */\n",
       "  --sklearn-color-unfitted-level-0: #fff5e6;\n",
       "  --sklearn-color-unfitted-level-1: #f6e4d2;\n",
       "  --sklearn-color-unfitted-level-2: #ffe0b3;\n",
       "  --sklearn-color-unfitted-level-3: chocolate;\n",
       "  /* Definition of color scheme for fitted estimators */\n",
       "  --sklearn-color-fitted-level-0: #f0f8ff;\n",
       "  --sklearn-color-fitted-level-1: #d4ebff;\n",
       "  --sklearn-color-fitted-level-2: #b3dbfd;\n",
       "  --sklearn-color-fitted-level-3: cornflowerblue;\n",
       "\n",
       "  /* Specific color for light theme */\n",
       "  --sklearn-color-text-on-default-background: var(--sg-text-color, var(--theme-code-foreground, var(--jp-content-font-color1, black)));\n",
       "  --sklearn-color-background: var(--sg-background-color, var(--theme-background, var(--jp-layout-color0, white)));\n",
       "  --sklearn-color-border-box: var(--sg-text-color, var(--theme-code-foreground, var(--jp-content-font-color1, black)));\n",
       "  --sklearn-color-icon: #696969;\n",
       "\n",
       "  @media (prefers-color-scheme: dark) {\n",
       "    /* Redefinition of color scheme for dark theme */\n",
       "    --sklearn-color-text-on-default-background: var(--sg-text-color, var(--theme-code-foreground, var(--jp-content-font-color1, white)));\n",
       "    --sklearn-color-background: var(--sg-background-color, var(--theme-background, var(--jp-layout-color0, #111)));\n",
       "    --sklearn-color-border-box: var(--sg-text-color, var(--theme-code-foreground, var(--jp-content-font-color1, white)));\n",
       "    --sklearn-color-icon: #878787;\n",
       "  }\n",
       "}\n",
       "\n",
       "#sk-container-id-1 {\n",
       "  color: var(--sklearn-color-text);\n",
       "}\n",
       "\n",
       "#sk-container-id-1 pre {\n",
       "  padding: 0;\n",
       "}\n",
       "\n",
       "#sk-container-id-1 input.sk-hidden--visually {\n",
       "  border: 0;\n",
       "  clip: rect(1px 1px 1px 1px);\n",
       "  clip: rect(1px, 1px, 1px, 1px);\n",
       "  height: 1px;\n",
       "  margin: -1px;\n",
       "  overflow: hidden;\n",
       "  padding: 0;\n",
       "  position: absolute;\n",
       "  width: 1px;\n",
       "}\n",
       "\n",
       "#sk-container-id-1 div.sk-dashed-wrapped {\n",
       "  border: 1px dashed var(--sklearn-color-line);\n",
       "  margin: 0 0.4em 0.5em 0.4em;\n",
       "  box-sizing: border-box;\n",
       "  padding-bottom: 0.4em;\n",
       "  background-color: var(--sklearn-color-background);\n",
       "}\n",
       "\n",
       "#sk-container-id-1 div.sk-container {\n",
       "  /* jupyter's `normalize.less` sets `[hidden] { display: none; }`\n",
       "     but bootstrap.min.css set `[hidden] { display: none !important; }`\n",
       "     so we also need the `!important` here to be able to override the\n",
       "     default hidden behavior on the sphinx rendered scikit-learn.org.\n",
       "     See: https://github.com/scikit-learn/scikit-learn/issues/21755 */\n",
       "  display: inline-block !important;\n",
       "  position: relative;\n",
       "}\n",
       "\n",
       "#sk-container-id-1 div.sk-text-repr-fallback {\n",
       "  display: none;\n",
       "}\n",
       "\n",
       "div.sk-parallel-item,\n",
       "div.sk-serial,\n",
       "div.sk-item {\n",
       "  /* draw centered vertical line to link estimators */\n",
       "  background-image: linear-gradient(var(--sklearn-color-text-on-default-background), var(--sklearn-color-text-on-default-background));\n",
       "  background-size: 2px 100%;\n",
       "  background-repeat: no-repeat;\n",
       "  background-position: center center;\n",
       "}\n",
       "\n",
       "/* Parallel-specific style estimator block */\n",
       "\n",
       "#sk-container-id-1 div.sk-parallel-item::after {\n",
       "  content: \"\";\n",
       "  width: 100%;\n",
       "  border-bottom: 2px solid var(--sklearn-color-text-on-default-background);\n",
       "  flex-grow: 1;\n",
       "}\n",
       "\n",
       "#sk-container-id-1 div.sk-parallel {\n",
       "  display: flex;\n",
       "  align-items: stretch;\n",
       "  justify-content: center;\n",
       "  background-color: var(--sklearn-color-background);\n",
       "  position: relative;\n",
       "}\n",
       "\n",
       "#sk-container-id-1 div.sk-parallel-item {\n",
       "  display: flex;\n",
       "  flex-direction: column;\n",
       "}\n",
       "\n",
       "#sk-container-id-1 div.sk-parallel-item:first-child::after {\n",
       "  align-self: flex-end;\n",
       "  width: 50%;\n",
       "}\n",
       "\n",
       "#sk-container-id-1 div.sk-parallel-item:last-child::after {\n",
       "  align-self: flex-start;\n",
       "  width: 50%;\n",
       "}\n",
       "\n",
       "#sk-container-id-1 div.sk-parallel-item:only-child::after {\n",
       "  width: 0;\n",
       "}\n",
       "\n",
       "/* Serial-specific style estimator block */\n",
       "\n",
       "#sk-container-id-1 div.sk-serial {\n",
       "  display: flex;\n",
       "  flex-direction: column;\n",
       "  align-items: center;\n",
       "  background-color: var(--sklearn-color-background);\n",
       "  padding-right: 1em;\n",
       "  padding-left: 1em;\n",
       "}\n",
       "\n",
       "\n",
       "/* Toggleable style: style used for estimator/Pipeline/ColumnTransformer box that is\n",
       "clickable and can be expanded/collapsed.\n",
       "- Pipeline and ColumnTransformer use this feature and define the default style\n",
       "- Estimators will overwrite some part of the style using the `sk-estimator` class\n",
       "*/\n",
       "\n",
       "/* Pipeline and ColumnTransformer style (default) */\n",
       "\n",
       "#sk-container-id-1 div.sk-toggleable {\n",
       "  /* Default theme specific background. It is overwritten whether we have a\n",
       "  specific estimator or a Pipeline/ColumnTransformer */\n",
       "  background-color: var(--sklearn-color-background);\n",
       "}\n",
       "\n",
       "/* Toggleable label */\n",
       "#sk-container-id-1 label.sk-toggleable__label {\n",
       "  cursor: pointer;\n",
       "  display: block;\n",
       "  width: 100%;\n",
       "  margin-bottom: 0;\n",
       "  padding: 0.5em;\n",
       "  box-sizing: border-box;\n",
       "  text-align: center;\n",
       "}\n",
       "\n",
       "#sk-container-id-1 label.sk-toggleable__label-arrow:before {\n",
       "  /* Arrow on the left of the label */\n",
       "  content: \"▸\";\n",
       "  float: left;\n",
       "  margin-right: 0.25em;\n",
       "  color: var(--sklearn-color-icon);\n",
       "}\n",
       "\n",
       "#sk-container-id-1 label.sk-toggleable__label-arrow:hover:before {\n",
       "  color: var(--sklearn-color-text);\n",
       "}\n",
       "\n",
       "/* Toggleable content - dropdown */\n",
       "\n",
       "#sk-container-id-1 div.sk-toggleable__content {\n",
       "  max-height: 0;\n",
       "  max-width: 0;\n",
       "  overflow: hidden;\n",
       "  text-align: left;\n",
       "  /* unfitted */\n",
       "  background-color: var(--sklearn-color-unfitted-level-0);\n",
       "}\n",
       "\n",
       "#sk-container-id-1 div.sk-toggleable__content.fitted {\n",
       "  /* fitted */\n",
       "  background-color: var(--sklearn-color-fitted-level-0);\n",
       "}\n",
       "\n",
       "#sk-container-id-1 div.sk-toggleable__content pre {\n",
       "  margin: 0.2em;\n",
       "  border-radius: 0.25em;\n",
       "  color: var(--sklearn-color-text);\n",
       "  /* unfitted */\n",
       "  background-color: var(--sklearn-color-unfitted-level-0);\n",
       "}\n",
       "\n",
       "#sk-container-id-1 div.sk-toggleable__content.fitted pre {\n",
       "  /* unfitted */\n",
       "  background-color: var(--sklearn-color-fitted-level-0);\n",
       "}\n",
       "\n",
       "#sk-container-id-1 input.sk-toggleable__control:checked~div.sk-toggleable__content {\n",
       "  /* Expand drop-down */\n",
       "  max-height: 200px;\n",
       "  max-width: 100%;\n",
       "  overflow: auto;\n",
       "}\n",
       "\n",
       "#sk-container-id-1 input.sk-toggleable__control:checked~label.sk-toggleable__label-arrow:before {\n",
       "  content: \"▾\";\n",
       "}\n",
       "\n",
       "/* Pipeline/ColumnTransformer-specific style */\n",
       "\n",
       "#sk-container-id-1 div.sk-label input.sk-toggleable__control:checked~label.sk-toggleable__label {\n",
       "  color: var(--sklearn-color-text);\n",
       "  background-color: var(--sklearn-color-unfitted-level-2);\n",
       "}\n",
       "\n",
       "#sk-container-id-1 div.sk-label.fitted input.sk-toggleable__control:checked~label.sk-toggleable__label {\n",
       "  background-color: var(--sklearn-color-fitted-level-2);\n",
       "}\n",
       "\n",
       "/* Estimator-specific style */\n",
       "\n",
       "/* Colorize estimator box */\n",
       "#sk-container-id-1 div.sk-estimator input.sk-toggleable__control:checked~label.sk-toggleable__label {\n",
       "  /* unfitted */\n",
       "  background-color: var(--sklearn-color-unfitted-level-2);\n",
       "}\n",
       "\n",
       "#sk-container-id-1 div.sk-estimator.fitted input.sk-toggleable__control:checked~label.sk-toggleable__label {\n",
       "  /* fitted */\n",
       "  background-color: var(--sklearn-color-fitted-level-2);\n",
       "}\n",
       "\n",
       "#sk-container-id-1 div.sk-label label.sk-toggleable__label,\n",
       "#sk-container-id-1 div.sk-label label {\n",
       "  /* The background is the default theme color */\n",
       "  color: var(--sklearn-color-text-on-default-background);\n",
       "}\n",
       "\n",
       "/* On hover, darken the color of the background */\n",
       "#sk-container-id-1 div.sk-label:hover label.sk-toggleable__label {\n",
       "  color: var(--sklearn-color-text);\n",
       "  background-color: var(--sklearn-color-unfitted-level-2);\n",
       "}\n",
       "\n",
       "/* Label box, darken color on hover, fitted */\n",
       "#sk-container-id-1 div.sk-label.fitted:hover label.sk-toggleable__label.fitted {\n",
       "  color: var(--sklearn-color-text);\n",
       "  background-color: var(--sklearn-color-fitted-level-2);\n",
       "}\n",
       "\n",
       "/* Estimator label */\n",
       "\n",
       "#sk-container-id-1 div.sk-label label {\n",
       "  font-family: monospace;\n",
       "  font-weight: bold;\n",
       "  display: inline-block;\n",
       "  line-height: 1.2em;\n",
       "}\n",
       "\n",
       "#sk-container-id-1 div.sk-label-container {\n",
       "  text-align: center;\n",
       "}\n",
       "\n",
       "/* Estimator-specific */\n",
       "#sk-container-id-1 div.sk-estimator {\n",
       "  font-family: monospace;\n",
       "  border: 1px dotted var(--sklearn-color-border-box);\n",
       "  border-radius: 0.25em;\n",
       "  box-sizing: border-box;\n",
       "  margin-bottom: 0.5em;\n",
       "  /* unfitted */\n",
       "  background-color: var(--sklearn-color-unfitted-level-0);\n",
       "}\n",
       "\n",
       "#sk-container-id-1 div.sk-estimator.fitted {\n",
       "  /* fitted */\n",
       "  background-color: var(--sklearn-color-fitted-level-0);\n",
       "}\n",
       "\n",
       "/* on hover */\n",
       "#sk-container-id-1 div.sk-estimator:hover {\n",
       "  /* unfitted */\n",
       "  background-color: var(--sklearn-color-unfitted-level-2);\n",
       "}\n",
       "\n",
       "#sk-container-id-1 div.sk-estimator.fitted:hover {\n",
       "  /* fitted */\n",
       "  background-color: var(--sklearn-color-fitted-level-2);\n",
       "}\n",
       "\n",
       "/* Specification for estimator info (e.g. \"i\" and \"?\") */\n",
       "\n",
       "/* Common style for \"i\" and \"?\" */\n",
       "\n",
       ".sk-estimator-doc-link,\n",
       "a:link.sk-estimator-doc-link,\n",
       "a:visited.sk-estimator-doc-link {\n",
       "  float: right;\n",
       "  font-size: smaller;\n",
       "  line-height: 1em;\n",
       "  font-family: monospace;\n",
       "  background-color: var(--sklearn-color-background);\n",
       "  border-radius: 1em;\n",
       "  height: 1em;\n",
       "  width: 1em;\n",
       "  text-decoration: none !important;\n",
       "  margin-left: 1ex;\n",
       "  /* unfitted */\n",
       "  border: var(--sklearn-color-unfitted-level-1) 1pt solid;\n",
       "  color: var(--sklearn-color-unfitted-level-1);\n",
       "}\n",
       "\n",
       ".sk-estimator-doc-link.fitted,\n",
       "a:link.sk-estimator-doc-link.fitted,\n",
       "a:visited.sk-estimator-doc-link.fitted {\n",
       "  /* fitted */\n",
       "  border: var(--sklearn-color-fitted-level-1) 1pt solid;\n",
       "  color: var(--sklearn-color-fitted-level-1);\n",
       "}\n",
       "\n",
       "/* On hover */\n",
       "div.sk-estimator:hover .sk-estimator-doc-link:hover,\n",
       ".sk-estimator-doc-link:hover,\n",
       "div.sk-label-container:hover .sk-estimator-doc-link:hover,\n",
       ".sk-estimator-doc-link:hover {\n",
       "  /* unfitted */\n",
       "  background-color: var(--sklearn-color-unfitted-level-3);\n",
       "  color: var(--sklearn-color-background);\n",
       "  text-decoration: none;\n",
       "}\n",
       "\n",
       "div.sk-estimator.fitted:hover .sk-estimator-doc-link.fitted:hover,\n",
       ".sk-estimator-doc-link.fitted:hover,\n",
       "div.sk-label-container:hover .sk-estimator-doc-link.fitted:hover,\n",
       ".sk-estimator-doc-link.fitted:hover {\n",
       "  /* fitted */\n",
       "  background-color: var(--sklearn-color-fitted-level-3);\n",
       "  color: var(--sklearn-color-background);\n",
       "  text-decoration: none;\n",
       "}\n",
       "\n",
       "/* Span, style for the box shown on hovering the info icon */\n",
       ".sk-estimator-doc-link span {\n",
       "  display: none;\n",
       "  z-index: 9999;\n",
       "  position: relative;\n",
       "  font-weight: normal;\n",
       "  right: .2ex;\n",
       "  padding: .5ex;\n",
       "  margin: .5ex;\n",
       "  width: min-content;\n",
       "  min-width: 20ex;\n",
       "  max-width: 50ex;\n",
       "  color: var(--sklearn-color-text);\n",
       "  box-shadow: 2pt 2pt 4pt #999;\n",
       "  /* unfitted */\n",
       "  background: var(--sklearn-color-unfitted-level-0);\n",
       "  border: .5pt solid var(--sklearn-color-unfitted-level-3);\n",
       "}\n",
       "\n",
       ".sk-estimator-doc-link.fitted span {\n",
       "  /* fitted */\n",
       "  background: var(--sklearn-color-fitted-level-0);\n",
       "  border: var(--sklearn-color-fitted-level-3);\n",
       "}\n",
       "\n",
       ".sk-estimator-doc-link:hover span {\n",
       "  display: block;\n",
       "}\n",
       "\n",
       "/* \"?\"-specific style due to the `<a>` HTML tag */\n",
       "\n",
       "#sk-container-id-1 a.estimator_doc_link {\n",
       "  float: right;\n",
       "  font-size: 1rem;\n",
       "  line-height: 1em;\n",
       "  font-family: monospace;\n",
       "  background-color: var(--sklearn-color-background);\n",
       "  border-radius: 1rem;\n",
       "  height: 1rem;\n",
       "  width: 1rem;\n",
       "  text-decoration: none;\n",
       "  /* unfitted */\n",
       "  color: var(--sklearn-color-unfitted-level-1);\n",
       "  border: var(--sklearn-color-unfitted-level-1) 1pt solid;\n",
       "}\n",
       "\n",
       "#sk-container-id-1 a.estimator_doc_link.fitted {\n",
       "  /* fitted */\n",
       "  border: var(--sklearn-color-fitted-level-1) 1pt solid;\n",
       "  color: var(--sklearn-color-fitted-level-1);\n",
       "}\n",
       "\n",
       "/* On hover */\n",
       "#sk-container-id-1 a.estimator_doc_link:hover {\n",
       "  /* unfitted */\n",
       "  background-color: var(--sklearn-color-unfitted-level-3);\n",
       "  color: var(--sklearn-color-background);\n",
       "  text-decoration: none;\n",
       "}\n",
       "\n",
       "#sk-container-id-1 a.estimator_doc_link.fitted:hover {\n",
       "  /* fitted */\n",
       "  background-color: var(--sklearn-color-fitted-level-3);\n",
       "}\n",
       "</style><div id=\"sk-container-id-1\" class=\"sk-top-container\"><div class=\"sk-text-repr-fallback\"><pre>RandomForestClassifier()</pre><b>In a Jupyter environment, please rerun this cell to show the HTML representation or trust the notebook. <br />On GitHub, the HTML representation is unable to render, please try loading this page with nbviewer.org.</b></div><div class=\"sk-container\" hidden><div class=\"sk-item\"><div class=\"sk-estimator fitted sk-toggleable\"><input class=\"sk-toggleable__control sk-hidden--visually\" id=\"sk-estimator-id-1\" type=\"checkbox\" checked><label for=\"sk-estimator-id-1\" class=\"sk-toggleable__label fitted sk-toggleable__label-arrow fitted\">&nbsp;&nbsp;RandomForestClassifier<a class=\"sk-estimator-doc-link fitted\" rel=\"noreferrer\" target=\"_blank\" href=\"https://scikit-learn.org/1.4/modules/generated/sklearn.ensemble.RandomForestClassifier.html\">?<span>Documentation for RandomForestClassifier</span></a><span class=\"sk-estimator-doc-link fitted\">i<span>Fitted</span></span></label><div class=\"sk-toggleable__content fitted\"><pre>RandomForestClassifier()</pre></div> </div></div></div></div>"
      ],
      "text/plain": [
       "RandomForestClassifier()"
      ]
     },
     "execution_count": 15,
     "metadata": {},
     "output_type": "execute_result"
    }
   ],
   "source": [
    "rf = RandomForestClassifier()\n",
    "rf.fit(features_1.to_pandas().copy(), label.to_pandas().copy())"
   ]
  },
  {
   "cell_type": "code",
   "execution_count": 16,
   "id": "3dfc63fc-1c2d-4e1e-9022-9d7f5ee8dd3f",
   "metadata": {
    "scrolled": true
   },
   "outputs": [],
   "source": [
    "pi = permutation_importance(rf, features_1.to_pandas().copy(), label.to_pandas().copy(), scoring=\"f1\", n_repeats=10)"
   ]
  },
  {
   "cell_type": "code",
   "execution_count": 17,
   "id": "bb99ae8a-19d3-47e7-b961-72921a22b9f4",
   "metadata": {},
   "outputs": [],
   "source": [
    "approximate_permutation_importance = list(zip(rf.feature_names_in_, pi[\"importances_mean\"]))\n",
    "approximate_permutation_importance.sort(key=lambda x: x[1])"
   ]
  },
  {
   "cell_type": "markdown",
   "id": "95a58666-6e1e-4334-abee-3f2bc395635b",
   "metadata": {},
   "source": [
    "#### inspect permutation importance and detect potential leakage\n",
    "- no obvious leakage is found"
   ]
  },
  {
   "cell_type": "code",
   "execution_count": 18,
   "id": "0c6a5a49-7087-4e85-a9a0-142c6adebb6b",
   "metadata": {},
   "outputs": [
    {
     "data": {
      "text/plain": [
       "[('cap-shape', 0.0),\n",
       " ('cap-surface', 0.0),\n",
       " ('cap-color', 0.0),\n",
       " ('bruises?', 0.0),\n",
       " ('gill-attachment', 0.0),\n",
       " ('gill-spacing', 0.0),\n",
       " ('gill-color', 0.0),\n",
       " ('stalk-root', 0.0),\n",
       " ('stalk-surface-above-ring', 0.0),\n",
       " ('stalk-surface-below-ring', 0.0),\n",
       " ('stalk-color-above-ring', 0.0),\n",
       " ('stalk-color-below-ring', 0.0),\n",
       " ('veil-type', 0.0),\n",
       " ('veil-color', 0.0),\n",
       " ('ring-number', 0.0),\n",
       " ('ring-type', 0.0),\n",
       " ('population', 0.0),\n",
       " ('habitat', 0.0),\n",
       " ('gill-size', 0.002954024047017401),\n",
       " ('odor', 0.01585364219607873),\n",
       " ('stalk-shape', 0.027859015365711913),\n",
       " ('spore-print-color', 0.14613518703683565)]"
      ]
     },
     "execution_count": 18,
     "metadata": {},
     "output_type": "execute_result"
    }
   ],
   "source": [
    "approximate_permutation_importance"
   ]
  },
  {
   "cell_type": "code",
   "execution_count": 19,
   "id": "7e219b22-d812-406f-a362-e6871fbab514",
   "metadata": {},
   "outputs": [],
   "source": [
    "approximate_top_features = [t[0] for t in approximate_permutation_importance[-5:]]"
   ]
  },
  {
   "cell_type": "code",
   "execution_count": 20,
   "id": "bf2d7846-3807-4125-8c41-b8731c3f6d1c",
   "metadata": {},
   "outputs": [
    {
     "name": "stdout",
     "output_type": "stream",
     "text": [
      "top 5 features: spore-print-color, stalk-shape, odor, gill-size, habitat\n"
     ]
    }
   ],
   "source": [
    "print(f\"top 5 features: {', '.join(approximate_top_features[::-1])}\")"
   ]
  },
  {
   "cell_type": "markdown",
   "id": "ff66004c-c4bc-4f39-8e13-9b838ebe2b9c",
   "metadata": {},
   "source": [
    "#### model selection"
   ]
  },
  {
   "cell_type": "code",
   "execution_count": 21,
   "id": "dae998bc-2ba4-423b-8090-e02e51d179d3",
   "metadata": {},
   "outputs": [],
   "source": [
    "model_candidates = [DecisionTreeClassifier, RandomForestClassifier, XGBClassifier, LogisticRegression, GaussianProcessClassifier]\n",
    "model_cv_results = {}"
   ]
  },
  {
   "cell_type": "code",
   "execution_count": 22,
   "id": "b74b5301-4f8f-4859-8222-a556a9a0706f",
   "metadata": {},
   "outputs": [],
   "source": [
    "outer_cv = StratifiedKFold(3, shuffle=True, random_state=0)\n",
    "inner_cv = StratifiedKFold(3, shuffle=True, random_state=0)"
   ]
  },
  {
   "cell_type": "code",
   "execution_count": 23,
   "id": "94dc4a73-840f-40c3-9b4c-2e461872618b",
   "metadata": {},
   "outputs": [],
   "source": [
    "for model_candidate in model_candidates:\n",
    "    result = cross_validate(model_candidate(),\n",
    "                            features_1.select(approximate_top_features).to_pandas().copy(),\n",
    "                            label.to_pandas().copy(),\n",
    "                            scoring=[\"roc_auc\", \"f1\"],\n",
    "                            cv=outer_cv)\n",
    "    model_cv_results[model_candidate.__name__] = result"
   ]
  },
  {
   "cell_type": "code",
   "execution_count": 24,
   "id": "6da47563-9622-4188-bbba-e6ad7966970e",
   "metadata": {},
   "outputs": [
    {
     "data": {
      "text/plain": [
       "{'DecisionTreeClassifier': {'fit_time': array([0.00142908, 0.00122619, 0.00111699]),\n",
       "  'score_time': array([0.00256491, 0.00229692, 0.00270987]),\n",
       "  'test_roc_auc': array([0.9999432 , 0.99994614, 0.99996048]),\n",
       "  'test_f1': array([0.99651082, 0.99651082, 0.9958042 ])},\n",
       " 'RandomForestClassifier': {'fit_time': array([0.06735802, 0.06824112, 0.06813478]),\n",
       "  'score_time': array([0.01021385, 0.01083112, 0.01035595]),\n",
       "  'test_roc_auc': array([0.9999432 , 0.99994614, 0.99996048]),\n",
       "  'test_f1': array([0.99651082, 0.99651082, 0.9958042 ])},\n",
       " 'XGBClassifier': {'fit_time': array([0.02622104, 0.02072906, 0.0205071 ]),\n",
       "  'score_time': array([0.00353003, 0.00357294, 0.00368404]),\n",
       "  'test_roc_auc': array([0.9999432 , 0.99994614, 0.99996048]),\n",
       "  'test_f1': array([0.99651082, 0.99651082, 0.9958042 ])},\n",
       " 'LogisticRegression': {'fit_time': array([0.01413083, 0.00696802, 0.00796795]),\n",
       "  'score_time': array([0.00316215, 0.00229001, 0.00740695]),\n",
       "  'test_roc_auc': array([0.93744716, 0.9151013 , 0.91203472]),\n",
       "  'test_f1': array([0.83714286, 0.87114846, 0.9037037 ])},\n",
       " 'GaussianProcessClassifier': {'fit_time': array([10.3289237 , 10.79116607, 10.94668698]),\n",
       "  'score_time': array([0.96123314, 1.13293576, 1.02186394]),\n",
       "  'test_roc_auc': array([0.99992526, 0.99993417, 0.99993892]),\n",
       "  'test_f1': array([0.99651082, 0.99651082, 0.9958042 ])}}"
      ]
     },
     "execution_count": 24,
     "metadata": {},
     "output_type": "execute_result"
    }
   ],
   "source": [
    "model_cv_results"
   ]
  },
  {
   "cell_type": "markdown",
   "id": "ce5db659-cbb1-4ca5-aaf3-ae4295c9b011",
   "metadata": {},
   "source": [
    "#### logistic regression underperforms as expected\n",
    "- use prepared one-hot encoded dataset for logistic regression\n",
    "- improvement of metrics for logistic regression is expected"
   ]
  },
  {
   "cell_type": "code",
   "execution_count": 25,
   "id": "8f0757e0-d306-4fea-a395-c5eea417ec9f",
   "metadata": {},
   "outputs": [],
   "source": [
    "features_2 = features_1.select(approximate_top_features).to_dummies(drop_first=True)"
   ]
  },
  {
   "cell_type": "code",
   "execution_count": 26,
   "id": "da502ebe-5916-41db-b2bf-db235aa08e09",
   "metadata": {},
   "outputs": [],
   "source": [
    "log_result_onehot = cross_validate(LogisticRegression(), features_2.to_pandas().copy(), label.to_pandas().copy(), scoring=[\"roc_auc\", \"f1\"], cv=outer_cv)"
   ]
  },
  {
   "cell_type": "code",
   "execution_count": 27,
   "id": "89480cd2-8611-4867-94a3-7e4f22c1bac9",
   "metadata": {},
   "outputs": [
    {
     "data": {
      "text/plain": [
       "{'fit_time': array([0.01611495, 0.01101685, 0.00734091]),\n",
       " 'score_time': array([0.00273824, 0.00240803, 0.00237203]),\n",
       " 'test_roc_auc': array([0.9999432 , 0.99994614, 0.99996048]),\n",
       " 'test_f1': array([0.99651082, 0.99651082, 0.9958042 ])}"
      ]
     },
     "execution_count": 27,
     "metadata": {},
     "output_type": "execute_result"
    }
   ],
   "source": [
    "log_result_onehot"
   ]
  },
  {
   "cell_type": "markdown",
   "id": "1673faa9-7722-47ac-ae2b-b8c32b734c94",
   "metadata": {},
   "source": [
    "#### hyperparameter tunning"
   ]
  },
  {
   "cell_type": "code",
   "execution_count": 28,
   "id": "0e0b1cec-c3f5-4d44-8742-d2b1d134bb8e",
   "metadata": {},
   "outputs": [
    {
     "name": "stdout",
     "output_type": "stream",
     "text": [
      "0.9962752762473628\n",
      "{'n_estimators': 20}\n"
     ]
    }
   ],
   "source": [
    "mean_test_f1 = 0\n",
    "for train_index, test_index in outer_cv.split(features_1, label):\n",
    "    X_train = features_1.select(approximate_top_features)[train_index].to_pandas().copy()\n",
    "    X_test = features_1.select(approximate_top_features)[test_index].to_pandas().copy()\n",
    "    y_train = label[train_index].to_pandas().copy()\n",
    "    y_test = label[test_index].to_pandas().copy()\n",
    "\n",
    "    search_space = {\"n_estimators\": [5, 10, 20, 30]}\n",
    "    gs = GridSearchCV(XGBClassifier(n_estimators=50), search_space, scoring=\"f1\", cv=inner_cv)\n",
    "    gs.fit(X_train, y_train)\n",
    "    best_model = gs.estimator.__class__(**gs.best_params_).fit(X_train, y_train)\n",
    "    mean_test_f1 += f1_score(y_test, best_model.predict(X_test)) / outer_cv.n_splits\n",
    "\n",
    "print(mean_test_f1)\n",
    "print(gs.best_params_)"
   ]
  },
  {
   "cell_type": "markdown",
   "id": "fed1b8eb-a8b2-4c16-9095-43e39ca963c5",
   "metadata": {},
   "source": [
    "#### evaluation of best model on test set"
   ]
  },
  {
   "cell_type": "code",
   "execution_count": 29,
   "id": "a5a397fb-df32-43c1-aa65-a5069b91a714",
   "metadata": {},
   "outputs": [],
   "source": [
    "y_pred = best_model.predict(X_test)\n",
    "cm = confusion_matrix(y_test, y_pred, labels=best_model.classes_)\n",
    "cm_disp = ConfusionMatrixDisplay(confusion_matrix=cm, display_labels=best_model.classes_)"
   ]
  },
  {
   "cell_type": "code",
   "execution_count": 30,
   "id": "0d1b32cd-2a69-4a92-8c17-aa1d2b6a53af",
   "metadata": {},
   "outputs": [
    {
     "data": {
      "image/png": "[encoded data removed]",
      "text/plain": [
       "<Figure size 640x480 with 2 Axes>"
      ]
     },
     "metadata": {},
     "output_type": "display_data"
    }
   ],
   "source": [
    "cm_disp.plot()\n",
    "plt.title(f\"{best_model.__class__.__name__}\")\n",
    "plt.savefig(\"confusion_matrix.png\")\n",
    "plt.show()"
   ]
  },
  {
   "cell_type": "code",
   "execution_count": 31,
   "id": "daae690a-31e6-4392-8845-1240cd21d786",
   "metadata": {},
   "outputs": [
    {
     "data": {
      "image/png": "[encoded data removed]",
      "text/plain": [
       "<Figure size 640x480 with 1 Axes>"
      ]
     },
     "metadata": {},
     "output_type": "display_data"
    }
   ],
   "source": [
    "y_prob = best_model.predict_proba(X_test)[:, 1]\n",
    "roc_disp = RocCurveDisplay.from_predictions(\n",
    "    y_test,\n",
    "    y_prob,\n",
    "    plot_chance_level=True,\n",
    "    name=best_model.__class__.__name__\n",
    ")\n",
    "roc_disp.ax_.set(\n",
    "    xlabel=\"False Positive Rate\",\n",
    "    ylabel=\"True Positive Rate\",\n",
    "    title=f\"ROC curves of best model: {best_model.__class__.__name__}\",\n",
    ")\n",
    "plt.savefig(\"roc.png\")\n",
    "plt.show()"
   ]
  },
  {
   "cell_type": "code",
   "execution_count": 32,
   "id": "7f4a81c2-ea0a-44d4-8c56-a1e012b1883f",
   "metadata": {},
   "outputs": [],
   "source": [
    "explainer = shap.TreeExplainer(best_model)\n",
    "shap_values = explainer.shap_values(X_test)"
   ]
  },
  {
   "cell_type": "code",
   "execution_count": 33,
   "id": "9c463be6-6e2f-4641-a95b-e60bac6b1dba",
   "metadata": {},
   "outputs": [
    {
     "data": {
      "text/plain": [
       "[('habitat', 0.0),\n",
       " ('gill-size', 0.002954024047017401),\n",
       " ('odor', 0.01585364219607873),\n",
       " ('stalk-shape', 0.027859015365711913),\n",
       " ('spore-print-color', 0.14613518703683565)]"
      ]
     },
     "execution_count": 33,
     "metadata": {},
     "output_type": "execute_result"
    }
   ],
   "source": [
    "approximate_permutation_importance[-5:]"
   ]
  },
  {
   "cell_type": "code",
   "execution_count": null,
   "id": "4699cc33-043e-46c7-8354-389956cbee87",
   "metadata": {},
   "outputs": [],
   "source": []
  },
  {
   "cell_type": "code",
   "execution_count": 34,
   "id": "1aa81a63-a5fc-41d4-8510-7a23048e1c6b",
   "metadata": {},
   "outputs": [
    {
     "data": {
      "image/png": "[encoded data removed]",
      "text/plain": [
       "<Figure size 800x350 with 2 Axes>"
      ]
     },
     "metadata": {},
     "output_type": "display_data"
    }
   ],
   "source": [
    "shap.summary_plot(shap_values, X_test, show=False)\n",
    "plt.savefig(\"shape_summary.png\")\n",
    "plt.show()"
   ]
  },
  {
   "cell_type": "markdown",
   "id": "0084c1c9-6cb4-4aae-b291-ea55c86055c1",
   "metadata": {},
   "source": [
    "#### force plot of test example (poisonous)"
   ]
  },
  {
   "cell_type": "code",
   "execution_count": 35,
   "id": "1eefe23c-948c-433d-a579-01c37156f4ce",
   "metadata": {},
   "outputs": [
    {
     "data": {
      "image/png": "[encoded data removed]",
      "text/plain": [
       "<Figure size 2000x300 with 1 Axes>"
      ]
     },
     "metadata": {},
     "output_type": "display_data"
    }
   ],
   "source": [
    "shap.plots.force(explainer.expected_value, shap_values[y_test == 1][0, :], X_test[y_test == 1].iloc[0, :], matplotlib=True, show=False)\n",
    "plt.savefig(\"shap_force_poisonous.png\")\n",
    "plt.show()"
   ]
  },
  {
   "cell_type": "markdown",
   "id": "e28a8582-f05c-4f76-a370-595b6eb007c5",
   "metadata": {},
   "source": [
    "#### force plot of test example (edible)"
   ]
  },
  {
   "cell_type": "code",
   "execution_count": 36,
   "id": "e09f1539-2ad6-4c9b-aa42-8d09febfbba6",
   "metadata": {},
   "outputs": [
    {
     "data": {
      "image/png": "[encoded data removed]",
      "text/plain": [
       "<Figure size 2000x300 with 1 Axes>"
      ]
     },
     "metadata": {},
     "output_type": "display_data"
    }
   ],
   "source": [
    "shap.plots.force(explainer.expected_value, shap_values[y_test == 0][0, :], X_test[y_test == 0].iloc[0, :], matplotlib=True, show=False)\n",
    "plt.savefig(\"shap_force_edible.png\")\n",
    "plt.show()"
   ]
  },
  {
   "cell_type": "markdown",
   "id": "bd215b1e-810e-453c-a193-bbbd84b1845b",
   "metadata": {},
   "source": [
    "#### decision plot (poisonous)"
   ]
  },
  {
   "cell_type": "code",
   "execution_count": 40,
   "id": "e84b2974-0948-4432-8c7e-c2f104762628",
   "metadata": {},
   "outputs": [
    {
     "data": {
      "image/png": "[encoded data removed]",
      "text/plain": [
       "<Figure size 800x350 with 1 Axes>"
      ]
     },
     "metadata": {},
     "output_type": "display_data"
    }
   ],
   "source": [
    "shap.decision_plot(\n",
    "    explainer.expected_value,\n",
    "    shap_values[y_test == 1][0, :],\n",
    "    X_test[y_test == 1].iloc[0, :].replace(dict(enumerate(charset))),\n",
    "    link=\"logit\",\n",
    "    highlight=0,\n",
    "    show=False\n",
    ")\n",
    "plt.savefig(\"shape_decision_poisonous.png\")\n",
    "plt.show()"
   ]
  },
  {
   "cell_type": "markdown",
   "id": "386b21ca-bad9-488d-9cb0-ba12de1e2225",
   "metadata": {},
   "source": [
    "#### producing final model\n",
    "- repeat the model fitting procedure carried out during model evaluation stage (including hyperparameter search) on entire dataset\n",
    "- train final model with best param on entire dataset"
   ]
  },
  {
   "cell_type": "code",
   "execution_count": 38,
   "id": "22e2540d-de2d-472b-bb3c-b16040fc2d79",
   "metadata": {},
   "outputs": [],
   "source": [
    "final_gs = gs.fit(features_1.select(approximate_top_features).to_numpy(), label.to_numpy())"
   ]
  },
  {
   "cell_type": "code",
   "execution_count": 39,
   "id": "24eb4db2-f031-4249-b9b0-7c0d05edfa2b",
   "metadata": {},
   "outputs": [
    {
     "data": {
      "text/html": [
       "<style>#sk-container-id-2 {\n",
       "  /* Definition of color scheme common for light and dark mode */\n",
       "  --sklearn-color-text: black;\n",
       "  --sklearn-color-line: gray;\n",
       "  /* Definition of color scheme for unfitted estimators */\n",
       "  --sklearn-color-unfitted-level-0: #fff5e6;\n",
       "  --sklearn-color-unfitted-level-1: #f6e4d2;\n",
       "  --sklearn-color-unfitted-level-2: #ffe0b3;\n",
       "  --sklearn-color-unfitted-level-3: chocolate;\n",
       "  /* Definition of color scheme for fitted estimators */\n",
       "  --sklearn-color-fitted-level-0: #f0f8ff;\n",
       "  --sklearn-color-fitted-level-1: #d4ebff;\n",
       "  --sklearn-color-fitted-level-2: #b3dbfd;\n",
       "  --sklearn-color-fitted-level-3: cornflowerblue;\n",
       "\n",
       "  /* Specific color for light theme */\n",
       "  --sklearn-color-text-on-default-background: var(--sg-text-color, var(--theme-code-foreground, var(--jp-content-font-color1, black)));\n",
       "  --sklearn-color-background: var(--sg-background-color, var(--theme-background, var(--jp-layout-color0, white)));\n",
       "  --sklearn-color-border-box: var(--sg-text-color, var(--theme-code-foreground, var(--jp-content-font-color1, black)));\n",
       "  --sklearn-color-icon: #696969;\n",
       "\n",
       "  @media (prefers-color-scheme: dark) {\n",
       "    /* Redefinition of color scheme for dark theme */\n",
       "    --sklearn-color-text-on-default-background: var(--sg-text-color, var(--theme-code-foreground, var(--jp-content-font-color1, white)));\n",
       "    --sklearn-color-background: var(--sg-background-color, var(--theme-background, var(--jp-layout-color0, #111)));\n",
       "    --sklearn-color-border-box: var(--sg-text-color, var(--theme-code-foreground, var(--jp-content-font-color1, white)));\n",
       "    --sklearn-color-icon: #878787;\n",
       "  }\n",
       "}\n",
       "\n",
       "#sk-container-id-2 {\n",
       "  color: var(--sklearn-color-text);\n",
       "}\n",
       "\n",
       "#sk-container-id-2 pre {\n",
       "  padding: 0;\n",
       "}\n",
       "\n",
       "#sk-container-id-2 input.sk-hidden--visually {\n",
       "  border: 0;\n",
       "  clip: rect(1px 1px 1px 1px);\n",
       "  clip: rect(1px, 1px, 1px, 1px);\n",
       "  height: 1px;\n",
       "  margin: -1px;\n",
       "  overflow: hidden;\n",
       "  padding: 0;\n",
       "  position: absolute;\n",
       "  width: 1px;\n",
       "}\n",
       "\n",
       "#sk-container-id-2 div.sk-dashed-wrapped {\n",
       "  border: 1px dashed var(--sklearn-color-line);\n",
       "  margin: 0 0.4em 0.5em 0.4em;\n",
       "  box-sizing: border-box;\n",
       "  padding-bottom: 0.4em;\n",
       "  background-color: var(--sklearn-color-background);\n",
       "}\n",
       "\n",
       "#sk-container-id-2 div.sk-container {\n",
       "  /* jupyter's `normalize.less` sets `[hidden] { display: none; }`\n",
       "     but bootstrap.min.css set `[hidden] { display: none !important; }`\n",
       "     so we also need the `!important` here to be able to override the\n",
       "     default hidden behavior on the sphinx rendered scikit-learn.org.\n",
       "     See: https://github.com/scikit-learn/scikit-learn/issues/21755 */\n",
       "  display: inline-block !important;\n",
       "  position: relative;\n",
       "}\n",
       "\n",
       "#sk-container-id-2 div.sk-text-repr-fallback {\n",
       "  display: none;\n",
       "}\n",
       "\n",
       "div.sk-parallel-item,\n",
       "div.sk-serial,\n",
       "div.sk-item {\n",
       "  /* draw centered vertical line to link estimators */\n",
       "  background-image: linear-gradient(var(--sklearn-color-text-on-default-background), var(--sklearn-color-text-on-default-background));\n",
       "  background-size: 2px 100%;\n",
       "  background-repeat: no-repeat;\n",
       "  background-position: center center;\n",
       "}\n",
       "\n",
       "/* Parallel-specific style estimator block */\n",
       "\n",
       "#sk-container-id-2 div.sk-parallel-item::after {\n",
       "  content: \"\";\n",
       "  width: 100%;\n",
       "  border-bottom: 2px solid var(--sklearn-color-text-on-default-background);\n",
       "  flex-grow: 1;\n",
       "}\n",
       "\n",
       "#sk-container-id-2 div.sk-parallel {\n",
       "  display: flex;\n",
       "  align-items: stretch;\n",
       "  justify-content: center;\n",
       "  background-color: var(--sklearn-color-background);\n",
       "  position: relative;\n",
       "}\n",
       "\n",
       "#sk-container-id-2 div.sk-parallel-item {\n",
       "  display: flex;\n",
       "  flex-direction: column;\n",
       "}\n",
       "\n",
       "#sk-container-id-2 div.sk-parallel-item:first-child::after {\n",
       "  align-self: flex-end;\n",
       "  width: 50%;\n",
       "}\n",
       "\n",
       "#sk-container-id-2 div.sk-parallel-item:last-child::after {\n",
       "  align-self: flex-start;\n",
       "  width: 50%;\n",
       "}\n",
       "\n",
       "#sk-container-id-2 div.sk-parallel-item:only-child::after {\n",
       "  width: 0;\n",
       "}\n",
       "\n",
       "/* Serial-specific style estimator block */\n",
       "\n",
       "#sk-container-id-2 div.sk-serial {\n",
       "  display: flex;\n",
       "  flex-direction: column;\n",
       "  align-items: center;\n",
       "  background-color: var(--sklearn-color-background);\n",
       "  padding-right: 1em;\n",
       "  padding-left: 1em;\n",
       "}\n",
       "\n",
       "\n",
       "/* Toggleable style: style used for estimator/Pipeline/ColumnTransformer box that is\n",
       "clickable and can be expanded/collapsed.\n",
       "- Pipeline and ColumnTransformer use this feature and define the default style\n",
       "- Estimators will overwrite some part of the style using the `sk-estimator` class\n",
       "*/\n",
       "\n",
       "/* Pipeline and ColumnTransformer style (default) */\n",
       "\n",
       "#sk-container-id-2 div.sk-toggleable {\n",
       "  /* Default theme specific background. It is overwritten whether we have a\n",
       "  specific estimator or a Pipeline/ColumnTransformer */\n",
       "  background-color: var(--sklearn-color-background);\n",
       "}\n",
       "\n",
       "/* Toggleable label */\n",
       "#sk-container-id-2 label.sk-toggleable__label {\n",
       "  cursor: pointer;\n",
       "  display: block;\n",
       "  width: 100%;\n",
       "  margin-bottom: 0;\n",
       "  padding: 0.5em;\n",
       "  box-sizing: border-box;\n",
       "  text-align: center;\n",
       "}\n",
       "\n",
       "#sk-container-id-2 label.sk-toggleable__label-arrow:before {\n",
       "  /* Arrow on the left of the label */\n",
       "  content: \"▸\";\n",
       "  float: left;\n",
       "  margin-right: 0.25em;\n",
       "  color: var(--sklearn-color-icon);\n",
       "}\n",
       "\n",
       "#sk-container-id-2 label.sk-toggleable__label-arrow:hover:before {\n",
       "  color: var(--sklearn-color-text);\n",
       "}\n",
       "\n",
       "/* Toggleable content - dropdown */\n",
       "\n",
       "#sk-container-id-2 div.sk-toggleable__content {\n",
       "  max-height: 0;\n",
       "  max-width: 0;\n",
       "  overflow: hidden;\n",
       "  text-align: left;\n",
       "  /* unfitted */\n",
       "  background-color: var(--sklearn-color-unfitted-level-0);\n",
       "}\n",
       "\n",
       "#sk-container-id-2 div.sk-toggleable__content.fitted {\n",
       "  /* fitted */\n",
       "  background-color: var(--sklearn-color-fitted-level-0);\n",
       "}\n",
       "\n",
       "#sk-container-id-2 div.sk-toggleable__content pre {\n",
       "  margin: 0.2em;\n",
       "  border-radius: 0.25em;\n",
       "  color: var(--sklearn-color-text);\n",
       "  /* unfitted */\n",
       "  background-color: var(--sklearn-color-unfitted-level-0);\n",
       "}\n",
       "\n",
       "#sk-container-id-2 div.sk-toggleable__content.fitted pre {\n",
       "  /* unfitted */\n",
       "  background-color: var(--sklearn-color-fitted-level-0);\n",
       "}\n",
       "\n",
       "#sk-container-id-2 input.sk-toggleable__control:checked~div.sk-toggleable__content {\n",
       "  /* Expand drop-down */\n",
       "  max-height: 200px;\n",
       "  max-width: 100%;\n",
       "  overflow: auto;\n",
       "}\n",
       "\n",
       "#sk-container-id-2 input.sk-toggleable__control:checked~label.sk-toggleable__label-arrow:before {\n",
       "  content: \"▾\";\n",
       "}\n",
       "\n",
       "/* Pipeline/ColumnTransformer-specific style */\n",
       "\n",
       "#sk-container-id-2 div.sk-label input.sk-toggleable__control:checked~label.sk-toggleable__label {\n",
       "  color: var(--sklearn-color-text);\n",
       "  background-color: var(--sklearn-color-unfitted-level-2);\n",
       "}\n",
       "\n",
       "#sk-container-id-2 div.sk-label.fitted input.sk-toggleable__control:checked~label.sk-toggleable__label {\n",
       "  background-color: var(--sklearn-color-fitted-level-2);\n",
       "}\n",
       "\n",
       "/* Estimator-specific style */\n",
       "\n",
       "/* Colorize estimator box */\n",
       "#sk-container-id-2 div.sk-estimator input.sk-toggleable__control:checked~label.sk-toggleable__label {\n",
       "  /* unfitted */\n",
       "  background-color: var(--sklearn-color-unfitted-level-2);\n",
       "}\n",
       "\n",
       "#sk-container-id-2 div.sk-estimator.fitted input.sk-toggleable__control:checked~label.sk-toggleable__label {\n",
       "  /* fitted */\n",
       "  background-color: var(--sklearn-color-fitted-level-2);\n",
       "}\n",
       "\n",
       "#sk-container-id-2 div.sk-label label.sk-toggleable__label,\n",
       "#sk-container-id-2 div.sk-label label {\n",
       "  /* The background is the default theme color */\n",
       "  color: var(--sklearn-color-text-on-default-background);\n",
       "}\n",
       "\n",
       "/* On hover, darken the color of the background */\n",
       "#sk-container-id-2 div.sk-label:hover label.sk-toggleable__label {\n",
       "  color: var(--sklearn-color-text);\n",
       "  background-color: var(--sklearn-color-unfitted-level-2);\n",
       "}\n",
       "\n",
       "/* Label box, darken color on hover, fitted */\n",
       "#sk-container-id-2 div.sk-label.fitted:hover label.sk-toggleable__label.fitted {\n",
       "  color: var(--sklearn-color-text);\n",
       "  background-color: var(--sklearn-color-fitted-level-2);\n",
       "}\n",
       "\n",
       "/* Estimator label */\n",
       "\n",
       "#sk-container-id-2 div.sk-label label {\n",
       "  font-family: monospace;\n",
       "  font-weight: bold;\n",
       "  display: inline-block;\n",
       "  line-height: 1.2em;\n",
       "}\n",
       "\n",
       "#sk-container-id-2 div.sk-label-container {\n",
       "  text-align: center;\n",
       "}\n",
       "\n",
       "/* Estimator-specific */\n",
       "#sk-container-id-2 div.sk-estimator {\n",
       "  font-family: monospace;\n",
       "  border: 1px dotted var(--sklearn-color-border-box);\n",
       "  border-radius: 0.25em;\n",
       "  box-sizing: border-box;\n",
       "  margin-bottom: 0.5em;\n",
       "  /* unfitted */\n",
       "  background-color: var(--sklearn-color-unfitted-level-0);\n",
       "}\n",
       "\n",
       "#sk-container-id-2 div.sk-estimator.fitted {\n",
       "  /* fitted */\n",
       "  background-color: var(--sklearn-color-fitted-level-0);\n",
       "}\n",
       "\n",
       "/* on hover */\n",
       "#sk-container-id-2 div.sk-estimator:hover {\n",
       "  /* unfitted */\n",
       "  background-color: var(--sklearn-color-unfitted-level-2);\n",
       "}\n",
       "\n",
       "#sk-container-id-2 div.sk-estimator.fitted:hover {\n",
       "  /* fitted */\n",
       "  background-color: var(--sklearn-color-fitted-level-2);\n",
       "}\n",
       "\n",
       "/* Specification for estimator info (e.g. \"i\" and \"?\") */\n",
       "\n",
       "/* Common style for \"i\" and \"?\" */\n",
       "\n",
       ".sk-estimator-doc-link,\n",
       "a:link.sk-estimator-doc-link,\n",
       "a:visited.sk-estimator-doc-link {\n",
       "  float: right;\n",
       "  font-size: smaller;\n",
       "  line-height: 1em;\n",
       "  font-family: monospace;\n",
       "  background-color: var(--sklearn-color-background);\n",
       "  border-radius: 1em;\n",
       "  height: 1em;\n",
       "  width: 1em;\n",
       "  text-decoration: none !important;\n",
       "  margin-left: 1ex;\n",
       "  /* unfitted */\n",
       "  border: var(--sklearn-color-unfitted-level-1) 1pt solid;\n",
       "  color: var(--sklearn-color-unfitted-level-1);\n",
       "}\n",
       "\n",
       ".sk-estimator-doc-link.fitted,\n",
       "a:link.sk-estimator-doc-link.fitted,\n",
       "a:visited.sk-estimator-doc-link.fitted {\n",
       "  /* fitted */\n",
       "  border: var(--sklearn-color-fitted-level-1) 1pt solid;\n",
       "  color: var(--sklearn-color-fitted-level-1);\n",
       "}\n",
       "\n",
       "/* On hover */\n",
       "div.sk-estimator:hover .sk-estimator-doc-link:hover,\n",
       ".sk-estimator-doc-link:hover,\n",
       "div.sk-label-container:hover .sk-estimator-doc-link:hover,\n",
       ".sk-estimator-doc-link:hover {\n",
       "  /* unfitted */\n",
       "  background-color: var(--sklearn-color-unfitted-level-3);\n",
       "  color: var(--sklearn-color-background);\n",
       "  text-decoration: none;\n",
       "}\n",
       "\n",
       "div.sk-estimator.fitted:hover .sk-estimator-doc-link.fitted:hover,\n",
       ".sk-estimator-doc-link.fitted:hover,\n",
       "div.sk-label-container:hover .sk-estimator-doc-link.fitted:hover,\n",
       ".sk-estimator-doc-link.fitted:hover {\n",
       "  /* fitted */\n",
       "  background-color: var(--sklearn-color-fitted-level-3);\n",
       "  color: var(--sklearn-color-background);\n",
       "  text-decoration: none;\n",
       "}\n",
       "\n",
       "/* Span, style for the box shown on hovering the info icon */\n",
       ".sk-estimator-doc-link span {\n",
       "  display: none;\n",
       "  z-index: 9999;\n",
       "  position: relative;\n",
       "  font-weight: normal;\n",
       "  right: .2ex;\n",
       "  padding: .5ex;\n",
       "  margin: .5ex;\n",
       "  width: min-content;\n",
       "  min-width: 20ex;\n",
       "  max-width: 50ex;\n",
       "  color: var(--sklearn-color-text);\n",
       "  box-shadow: 2pt 2pt 4pt #999;\n",
       "  /* unfitted */\n",
       "  background: var(--sklearn-color-unfitted-level-0);\n",
       "  border: .5pt solid var(--sklearn-color-unfitted-level-3);\n",
       "}\n",
       "\n",
       ".sk-estimator-doc-link.fitted span {\n",
       "  /* fitted */\n",
       "  background: var(--sklearn-color-fitted-level-0);\n",
       "  border: var(--sklearn-color-fitted-level-3);\n",
       "}\n",
       "\n",
       ".sk-estimator-doc-link:hover span {\n",
       "  display: block;\n",
       "}\n",
       "\n",
       "/* \"?\"-specific style due to the `<a>` HTML tag */\n",
       "\n",
       "#sk-container-id-2 a.estimator_doc_link {\n",
       "  float: right;\n",
       "  font-size: 1rem;\n",
       "  line-height: 1em;\n",
       "  font-family: monospace;\n",
       "  background-color: var(--sklearn-color-background);\n",
       "  border-radius: 1rem;\n",
       "  height: 1rem;\n",
       "  width: 1rem;\n",
       "  text-decoration: none;\n",
       "  /* unfitted */\n",
       "  color: var(--sklearn-color-unfitted-level-1);\n",
       "  border: var(--sklearn-color-unfitted-level-1) 1pt solid;\n",
       "}\n",
       "\n",
       "#sk-container-id-2 a.estimator_doc_link.fitted {\n",
       "  /* fitted */\n",
       "  border: var(--sklearn-color-fitted-level-1) 1pt solid;\n",
       "  color: var(--sklearn-color-fitted-level-1);\n",
       "}\n",
       "\n",
       "/* On hover */\n",
       "#sk-container-id-2 a.estimator_doc_link:hover {\n",
       "  /* unfitted */\n",
       "  background-color: var(--sklearn-color-unfitted-level-3);\n",
       "  color: var(--sklearn-color-background);\n",
       "  text-decoration: none;\n",
       "}\n",
       "\n",
       "#sk-container-id-2 a.estimator_doc_link.fitted:hover {\n",
       "  /* fitted */\n",
       "  background-color: var(--sklearn-color-fitted-level-3);\n",
       "}\n",
       "</style><div id=\"sk-container-id-2\" class=\"sk-top-container\"><div class=\"sk-text-repr-fallback\"><pre>XGBClassifier(base_score=None, booster=None, callbacks=None,\n",
       "              colsample_bylevel=None, colsample_bynode=None,\n",
       "              colsample_bytree=None, device=None, early_stopping_rounds=None,\n",
       "              enable_categorical=False, eval_metric=None, feature_types=None,\n",
       "              gamma=None, grow_policy=None, importance_type=None,\n",
       "              interaction_constraints=None, learning_rate=None, max_bin=None,\n",
       "              max_cat_threshold=None, max_cat_to_onehot=None,\n",
       "              max_delta_step=None, max_depth=None, max_leaves=None,\n",
       "              min_child_weight=None, missing=nan, monotone_constraints=None,\n",
       "              multi_strategy=None, n_estimators=5, n_jobs=None,\n",
       "              num_parallel_tree=None, random_state=None, ...)</pre><b>In a Jupyter environment, please rerun this cell to show the HTML representation or trust the notebook. <br />On GitHub, the HTML representation is unable to render, please try loading this page with nbviewer.org.</b></div><div class=\"sk-container\" hidden><div class=\"sk-item\"><div class=\"sk-estimator fitted sk-toggleable\"><input class=\"sk-toggleable__control sk-hidden--visually\" id=\"sk-estimator-id-2\" type=\"checkbox\" checked><label for=\"sk-estimator-id-2\" class=\"sk-toggleable__label fitted sk-toggleable__label-arrow fitted\">&nbsp;XGBClassifier<span class=\"sk-estimator-doc-link fitted\">i<span>Fitted</span></span></label><div class=\"sk-toggleable__content fitted\"><pre>XGBClassifier(base_score=None, booster=None, callbacks=None,\n",
       "              colsample_bylevel=None, colsample_bynode=None,\n",
       "              colsample_bytree=None, device=None, early_stopping_rounds=None,\n",
       "              enable_categorical=False, eval_metric=None, feature_types=None,\n",
       "              gamma=None, grow_policy=None, importance_type=None,\n",
       "              interaction_constraints=None, learning_rate=None, max_bin=None,\n",
       "              max_cat_threshold=None, max_cat_to_onehot=None,\n",
       "              max_delta_step=None, max_depth=None, max_leaves=None,\n",
       "              min_child_weight=None, missing=nan, monotone_constraints=None,\n",
       "              multi_strategy=None, n_estimators=5, n_jobs=None,\n",
       "              num_parallel_tree=None, random_state=None, ...)</pre></div> </div></div></div></div>"
      ],
      "text/plain": [
       "XGBClassifier(base_score=None, booster=None, callbacks=None,\n",
       "              colsample_bylevel=None, colsample_bynode=None,\n",
       "              colsample_bytree=None, device=None, early_stopping_rounds=None,\n",
       "              enable_categorical=False, eval_metric=None, feature_types=None,\n",
       "              gamma=None, grow_policy=None, importance_type=None,\n",
       "              interaction_constraints=None, learning_rate=None, max_bin=None,\n",
       "              max_cat_threshold=None, max_cat_to_onehot=None,\n",
       "              max_delta_step=None, max_depth=None, max_leaves=None,\n",
       "              min_child_weight=None, missing=nan, monotone_constraints=None,\n",
       "              multi_strategy=None, n_estimators=5, n_jobs=None,\n",
       "              num_parallel_tree=None, random_state=None, ...)"
      ]
     },
     "execution_count": 39,
     "metadata": {},
     "output_type": "execute_result"
    }
   ],
   "source": [
    "final_model = XGBClassifier(**final_gs.best_params_)\n",
    "final_model.fit(features_1.select(approximate_top_features).to_numpy(), label.to_numpy())"
   ]
  }
 ],
 "metadata": {
  "kernelspec": {
   "display_name": "Python 3 (ipykernel)",
   "language": "python",
   "name": "python3"
  },
  "language_info": {
   "codemirror_mode": {
    "name": "ipython",
    "version": 3
   },
   "file_extension": ".py",
   "mimetype": "text/x-python",
   "name": "python",
   "nbconvert_exporter": "python",
   "pygments_lexer": "ipython3",
   "version": "3.11.5"
  }
 },
 "nbformat": 4,
 "nbformat_minor": 5
}
